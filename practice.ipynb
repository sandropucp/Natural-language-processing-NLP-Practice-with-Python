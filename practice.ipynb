{
 "cells": [
  {
   "cell_type": "code",
   "execution_count": 1,
   "metadata": {},
   "outputs": [],
   "source": [
    "# importing libraries\n",
    "import nltk\n",
    "from nltk.tokenize import word_tokenize, sent_tokenize\n",
    "from nltk.corpus import stopwords\n",
    "from nltk.collocations import *\n",
    "from nltk.stem.lancaster import LancasterStemmer\n",
    "from string import punctuation\n",
    "import pandas as pd\n",
    "import numpy as np\n",
    "from nltk.probability import FreqDist\n",
    "from heapq import nlargest\n",
    "from collections import defaultdict"
   ]
  },
  {
   "cell_type": "code",
   "execution_count": 2,
   "metadata": {},
   "outputs": [
    {
     "name": "stdout",
     "output_type": "stream",
     "text": [
      "['Mary had a little lamb.', 'Her fleece was white as snow']\n"
     ]
    }
   ],
   "source": [
    "# Tokenization of paragraphs/sentences\n",
    "text = \"Mary had a little lamb. Her fleece was white as snow\"\n",
    "sents = sent_tokenize(text)\n",
    "print(sents)"
   ]
  },
  {
   "cell_type": "code",
   "execution_count": 3,
   "metadata": {},
   "outputs": [
    {
     "name": "stdout",
     "output_type": "stream",
     "text": [
      "[['Mary', 'had', 'a', 'little', 'lamb', '.'], ['Her', 'fleece', 'was', 'white', 'as', 'snow']]\n"
     ]
    }
   ],
   "source": [
    "# Tokenization of words\n",
    "words = [word_tokenize(sent) for sent in sents]\n",
    "print(words)"
   ]
  },
  {
   "cell_type": "code",
   "execution_count": 4,
   "metadata": {},
   "outputs": [
    {
     "name": "stdout",
     "output_type": "stream",
     "text": [
      "{'needn', '.', 'ours', 'aren', 'ma', 'isn', 'will', '_', '>', 'haven', \"doesn't\", 'so', 'just', 'should', 'too', 'and', 'don', 'he', '?', 'is', 'couldn', 'having', 'where', 'ourselves', 'be', \"hasn't\", 'yourselves', 's', \"mustn't\", 'who', 'over', 'y', 'of', 'were', '&', '[', 'against', 'what', 'hadn', '%', '~', 'very', '+', 'itself', 'or', 'the', 'in', 'mustn', 'up', 'my', \"'\", \"you're\", \"she's\", 'more', 'herself', ']', 'other', '-', 'these', 'can', 'further', \"wouldn't\", 'both', 'which', 'such', 'her', \"that'll\", 'mightn', 'those', 'its', 'was', 'd', '$', 'didn', 'down', 'weren', 'me', 'shan', 'your', 'hers', 'our', 'had', 'this', '@', '/', ')', 'when', 'himself', \"should've\", 'again', 'below', 'that', 'has', \"aren't\", '{', \"couldn't\", \"don't\", 'before', 't', '\\\\', 'doing', 'at', 'about', 'it', 'above', 'once', 'if', 'then', 'than', 'o', 'does', \"shan't\", 'all', 'won', '*', 'until', 'as', 'am', 'here', 'hasn', '}', 'but', 'under', \"isn't\", '(', \"you'll\", '\"', 'during', \"you'd\", \"it's\", 'm', 'there', \"hadn't\", 'being', 'shouldn', 'their', 'yourself', 'same', \"wasn't\", 'by', 'ain', 'wouldn', 'myself', 'after', 'his', 'no', 'they', 've', 'for', '=', 'themselves', 'now', 'with', '!', ';', 'to', 'yours', 'did', 'into', 'why', 'we', 'some', 'not', 'because', 'wasn', \"needn't\", \"shouldn't\", '#', 'most', ':', 'them', \"didn't\", 'a', \"you've\", 'off', 'own', \"weren't\", 'between', 'theirs', 'any', 'whom', 'i', 'through', \"haven't\", \"won't\", '<', 'have', 'nor', 'you', 'only', ',', 'while', '|', 're', 'do', 'on', 'are', 'from', 'him', 'each', 'few', 'll', 'been', 'out', \"mightn't\", '`', 'doesn', 'she', 'how', 'an', '^'}\n",
      "['Mary', 'little', 'lamb', 'Her', 'fleece', 'white', 'snow']\n"
     ]
    }
   ],
   "source": [
    "# Stopwords\n",
    "custom_stopwords = set(stopwords.words('english')+list(punctuation))\n",
    "print(custom_stopwords)\n",
    "wordsWOStopwords = [word for word in word_tokenize(text) if word not in custom_stopwords]\n",
    "print(wordsWOStopwords)"
   ]
  },
  {
   "cell_type": "code",
   "execution_count": 5,
   "metadata": {},
   "outputs": [
    {
     "data": {
      "text/plain": [
       "[(('Her', 'fleece'), 1),\n",
       " (('Mary', 'little'), 1),\n",
       " (('fleece', 'white'), 1),\n",
       " (('lamb', 'Her'), 1),\n",
       " (('little', 'lamb'), 1),\n",
       " (('white', 'snow'), 1)]"
      ]
     },
     "execution_count": 5,
     "metadata": {},
     "output_type": "execute_result"
    }
   ],
   "source": [
    "# Bigrams and Ngrams\n",
    "bigram_measures = nltk.collocations.BigramAssocMeasures()\n",
    "finder = BigramCollocationFinder.from_words(wordsWOStopwords)\n",
    "sorted(finder.ngram_fd.items())"
   ]
  },
  {
   "cell_type": "code",
   "execution_count": 6,
   "metadata": {},
   "outputs": [
    {
     "name": "stdout",
     "output_type": "stream",
     "text": [
      "['mary', 'clos', 'on', 'clos', 'night', 'when', 'she', 'was', 'in', 'the', 'mood', 'to', 'clos', '.']\n"
     ]
    }
   ],
   "source": [
    "# Stemming (reducing words to their root)\n",
    "text2 = \"Mary closed on closing night when she was in the mood to close.\"\n",
    "st = LancasterStemmer()\n",
    "stemmedWords = [st.stem(word) for word in word_tokenize(text2)]\n",
    "print(stemmedWords)"
   ]
  },
  {
   "cell_type": "code",
   "execution_count": 7,
   "metadata": {},
   "outputs": [
    {
     "data": {
      "text/plain": [
       "[('Mary', 'NNP'),\n",
       " ('closed', 'VBD'),\n",
       " ('on', 'IN'),\n",
       " ('closing', 'NN'),\n",
       " ('night', 'NN'),\n",
       " ('when', 'WRB'),\n",
       " ('she', 'PRP'),\n",
       " ('was', 'VBD'),\n",
       " ('in', 'IN'),\n",
       " ('the', 'DT'),\n",
       " ('mood', 'NN'),\n",
       " ('to', 'TO'),\n",
       " ('close', 'VB'),\n",
       " ('.', '.')]"
      ]
     },
     "execution_count": 7,
     "metadata": {},
     "output_type": "execute_result"
    }
   ],
   "source": [
    "# POS tagging (part of speech tagging)(Check if it verb, noun, etc.)\n",
    "nltk.pos_tag(word_tokenize(text2))"
   ]
  },
  {
   "cell_type": "code",
   "execution_count": 8,
   "metadata": {},
   "outputs": [
    {
     "name": "stdout",
     "output_type": "stream",
     "text": [
      "Synset('bass.n.01') the lowest part of the musical range\n",
      "Synset('bass.n.02') the lowest part in polyphonic music\n",
      "Synset('bass.n.03') an adult male singer with the lowest voice\n",
      "Synset('sea_bass.n.01') the lean flesh of a saltwater fish of the family Serranidae\n",
      "Synset('freshwater_bass.n.01') any of various North American freshwater fish with lean flesh (especially of the genus Micropterus)\n",
      "Synset('bass.n.06') the lowest adult male singing voice\n",
      "Synset('bass.n.07') the member with the lowest range of a family of musical instruments\n",
      "Synset('bass.n.08') nontechnical name for any of numerous edible marine and freshwater spiny-finned fishes\n",
      "Synset('bass.s.01') having or denoting a low vocal or instrumental range\n"
     ]
    }
   ],
   "source": [
    "# Disambiguating word meaning\n",
    "from nltk.corpus import wordnet as wn\n",
    "for ss in wn.synsets('bass'):\n",
    "    print(ss, ss.definition())"
   ]
  },
  {
   "cell_type": "code",
   "execution_count": 9,
   "metadata": {},
   "outputs": [
    {
     "name": "stdout",
     "output_type": "stream",
     "text": [
      "Synset('bass.n.07') the member with the lowest range of a family of musical instruments\n",
      "Synset('sea_bass.n.01') the lean flesh of a saltwater fish of the family Serranidae\n"
     ]
    }
   ],
   "source": [
    "# Word sense disambiguation\n",
    "from nltk.wsd import lesk\n",
    "sense1 = lesk(word_tokenize(\"Sing in a lower tone, along with the bass\"), \"bass\")\n",
    "print(sense1, sense1.definition())\n",
    "\n",
    "sense2 = lesk(word_tokenize(\"This sea bass was really hard to catch\"), \"bass\")\n",
    "print(sense2, sense2.definition())"
   ]
  }
 ],
 "metadata": {
  "kernelspec": {
   "display_name": ".venv",
   "language": "python",
   "name": "python3"
  },
  "language_info": {
   "codemirror_mode": {
    "name": "ipython",
    "version": 3
   },
   "file_extension": ".py",
   "mimetype": "text/x-python",
   "name": "python",
   "nbconvert_exporter": "python",
   "pygments_lexer": "ipython3",
   "version": "3.11.1"
  }
 },
 "nbformat": 4,
 "nbformat_minor": 2
}
