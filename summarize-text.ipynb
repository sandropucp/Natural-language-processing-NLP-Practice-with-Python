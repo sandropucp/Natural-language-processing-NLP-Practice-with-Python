{
 "cells": [
  {
   "cell_type": "code",
   "execution_count": 26,
   "metadata": {},
   "outputs": [],
   "source": [
    "# importing libraries\n",
    "from nltk.tokenize import word_tokenize, sent_tokenize\n",
    "from nltk.corpus import stopwords\n",
    "from nltk.collocations import *\n",
    "from string import punctuation\n",
    "from nltk.probability import FreqDist\n",
    "from heapq import nlargest\n",
    "from collections import defaultdict"
   ]
  },
  {
   "cell_type": "code",
   "execution_count": 27,
   "metadata": {},
   "outputs": [],
   "source": [
    "ranking = defaultdict(int) \n",
    "\n",
    "def summarize(text, n):\n",
    "    sents = sent_tokenize(text) # Tokenization of paragraphs/sentences\n",
    "    \n",
    "    assert n <= len(sents)\n",
    "    word_sent = word_tokenize(text.lower()) # Tokenization of words\n",
    "    _stopwords = set(stopwords.words('english') + list(punctuation)) # Stopwords\n",
    "    \n",
    "    word_sent=[word for word in word_sent if word not in _stopwords] # Removing stopwords\n",
    "    freq = FreqDist(word_sent) # Frequency distribution of words\n",
    "    \n",
    "    \n",
    "    ranking = defaultdict(int) # Ranking of sentences\n",
    "    \n",
    "    for i,sent in enumerate(sents): # Looping through sentences\n",
    "        for w in word_tokenize(sent.lower()): # Looping through words\n",
    "            if w in freq: # If word is in frequency distribution\n",
    "                ranking[i] += freq[w]   # Add word frequency to ranking of sentence\n",
    "             \n",
    "        \n",
    "    sents_idx = nlargest(n, ranking, key=ranking.get) # Get the top n sentences with the highest ranking\n",
    "    return [sents[j] for j in sorted(sents_idx)]     # Return the sentences in sorted order"
   ]
  },
  {
   "cell_type": "code",
   "execution_count": 28,
   "metadata": {},
   "outputs": [
    {
     "data": {
      "text/plain": [
       "['But they’re not exactly cheap, so cities and states across the United States are rolling out programs to make e-bikes more accessible to lower-income residents.“For some, an electric bike is a great investment and it’s one they can make pretty easily, and for others it is out of reach,” said D.C. Ward 6 Council member Charles Allen, who introduced an e-bike incentive program that passed last month.Cities from Tampa to Berkeley, as well as states such as Connecticut and Rhode Island, have launched programs that help get e-bikes, which often cost well over $1,000, into the hands of people who otherwise couldn’t afford them.',\n",
       " '“So our vouchers offered an upfront discount at the time of purchase to those individuals just to make it a little bit more accessible.”\\nThe project received almost 1,000 applications for 180 vouchers when it was launched, with another round of applications in the works.In Rhode Island, the state’s e-bike rebate program has provided more than 750 rebates, said Chris Kearns, the acting commissioner of the state’s Office of Energy Resources.',\n",
       " 'With transportation accounting for about 40 percent of Rhode Island’s greenhouse gas emissions, Kearns said, “we need to do everything possible to advance our transportation emission reduction efforts.”\\nBorrow an e-bike\\nPhiladelphia has taken a different approach to e-bike accessibility.']"
      ]
     },
     "execution_count": 28,
     "metadata": {},
     "output_type": "execute_result"
    }
   ],
   "source": [
    "text = \"\"\"Electric bikes are becoming a common sight on city streets, from commuters whizzing through downtown to bike-share stations on street corners. But they’re not exactly cheap, so cities and states across the United States are rolling out programs to make e-bikes more accessible to lower-income residents.“For some, an electric bike is a great investment and it’s one they can make pretty easily, and for others it is out of reach,” said D.C. Ward 6 Council member Charles Allen, who introduced an e-bike incentive program that passed last month.Cities from Tampa to Berkeley, as well as states such as Connecticut and Rhode Island, have launched programs that help get e-bikes, which often cost well over $1,000, into the hands of people who otherwise couldn’t afford them.\n",
    "There are more than 60 active e-bike incentive programs across the United States, according to a database compiled by John MacArthur at Portland State University. “There’s a tendency to only look at CO2 reduction, but there are a lot of other potential benefits,” MacArthur said of the initiatives.\n",
    "For low-income households, e-bikes offer more mobility than public transit at a much lower cost than a car. These programs can also encourage non-bikers to give pedaling a chance.\n",
    "'They go farther, faster, without as much effort and exertion,' said Nate Bowman-Johnson, general manager of Indego Bike Share in Philadelphia.\n",
    "Here’s a look at different programs across the country:\n",
    "E-bike vouchers and rebates\n",
    "Many programs offer vouchers, rebates or both for e-bike purchases. Denver’s trailblazing program has distributed thousands of rebates since it was launched in 2022 and has become a blueprint for other cities.\n",
    "In D.C., the Electric Bicycle Incentive Program will provide both vouchers and rebates for e-bikes, e-cargo bikes, maintenance, accessibility modifications, bike locks and replacement batteries. Applicants enrolled in social- welfare programs such as the Supplemental Nutritional Assistance Program (SNAP) will be able to apply for $1,500 for an e-bike or $2,000 for a heftier “e-cargo” model, designed for carrying groceries or children.\n",
    "In Tampa, a city program launched this spring offered vouchers worth up to $2,000 depending on the applicant’s income. These vouchers covered standard e-bikes and e-cargo bikes. They could only be redeemed in-person at local Tampa bike shops, which also provided a free helmet. Any Tampa resident over the age of 18 could apply, but income-qualified vouchers were available for those making the area’s median income or less.\n",
    "Most of the program applicants were eligible for the income-qualified vouchers, said Austin Britt, a spokesperson for Tampa’s mobility department.\n",
    "“An individual or a household with low income is definitely not going to have that kind of money to put forward,” he said. “So our vouchers offered an upfront discount at the time of purchase to those individuals just to make it a little bit more accessible.”\n",
    "The project received almost 1,000 applications for 180 vouchers when it was launched, with another round of applications in the works.In Rhode Island, the state’s e-bike rebate program has provided more than 750 rebates, said Chris Kearns, the acting commissioner of the state’s Office of Energy Resources. Almost half of those rebates went to income-qualified applicants.\n",
    "With transportation accounting for about 40 percent of Rhode Island’s greenhouse gas emissions, Kearns said, “we need to do everything possible to advance our transportation emission reduction efforts.”\n",
    "Borrow an e-bike\n",
    "Philadelphia has taken a different approach to e-bike accessibility. Indego, the city bike-share service, offers reduced rates to lower-income riders. They often live farther from downtown, said Waffiyyah Murray, the Indego program manager.\n",
    "“Having connectivity into Center City has been really important for a lot of our ridership and communities,” Murray said.\n",
    "Indego’s standard fare is $20 per month plus a riding fee of 20 cents per minute. Residents who receive public assistance such as SNAP ride for $5 a month and a 7-cent-per-minute riding fee. Indego also hosts free bike classes and group rides to help riders feel more comfortable on e-bikes.\n",
    "“It’s not just enough to subsidize the cost,\" said Bowman-Johnson. “If you want people to use it they have to feel like it’s for them, and they have to see other people like them using it.”\n",
    "E-bike lottery\n",
    "In Berkeley, Calif., a small-scale experimental program has provided e-bikes to 56 low-income residents.\n",
    "The recipients, who were chosen through a lottery, each received a bike tailored to their needs. For example, some participants got e-trikes instead of two-wheeled bikes. The project is funded by the city’s Climate Equity Fund and the University of California, Berkeley, and is run in partnership with a local nonprofit.\n",
    "The program will end after one year, but the residents will be able to keep the bikes.\n",
    "“For us, it absolutely is an equity-focused program,” said Sarah Moore, the project’s manager with the city.\"\"\"\n",
    "summarize(text,3)"
   ]
  }
 ],
 "metadata": {
  "kernelspec": {
   "display_name": ".venv",
   "language": "python",
   "name": "python3"
  },
  "language_info": {
   "codemirror_mode": {
    "name": "ipython",
    "version": 3
   },
   "file_extension": ".py",
   "mimetype": "text/x-python",
   "name": "python",
   "nbconvert_exporter": "python",
   "pygments_lexer": "ipython3",
   "version": "3.11.1"
  }
 },
 "nbformat": 4,
 "nbformat_minor": 2
}
